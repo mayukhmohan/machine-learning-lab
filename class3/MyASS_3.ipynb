{
 "cells": [
  {
   "cell_type": "code",
   "execution_count": 1,
   "metadata": {
    "colab": {
     "base_uri": "https://localhost:8080/",
     "height": 35
    },
    "colab_type": "code",
    "id": "QRrK_Z6jdalK",
    "outputId": "039669ce-5e9c-49f4-e2b7-8e74f8c49c9f"
   },
   "outputs": [
    {
     "name": "stderr",
     "output_type": "stream",
     "text": [
      "Using TensorFlow backend.\n"
     ]
    }
   ],
   "source": [
    "import tensorflow as tf\n",
    "from sklearn.metrics import confusion_matrix\n",
    "from keras.models import Sequential, load_model\n",
    "from keras.layers.core import Dense, Dropout, Activation\n",
    "from keras.utils import np_utils\n",
    "import matplotlib.pyplot as plt\n",
    "import numpy as np\n",
    "import os\n",
    "from PIL import Image\n",
    "%matplotlib inline"
   ]
  },
  {
   "cell_type": "code",
   "execution_count": 2,
   "metadata": {
    "colab": {
     "base_uri": "https://localhost:8080/",
     "height": 54
    },
    "colab_type": "code",
    "id": "lvvlv_tBdalR",
    "outputId": "f7ba48f7-e7ea-41dc-ac38-f354bfe88073"
   },
   "outputs": [
    {
     "name": "stdout",
     "output_type": "stream",
     "text": [
      "Downloading data from https://s3.amazonaws.com/img-datasets/mnist.npz\n",
      "11493376/11490434 [==============================] - 2s 0us/step\n"
     ]
    }
   ],
   "source": [
    "from keras.datasets import mnist\n",
    "(x_train, y_train), (x_test, y_test) = mnist.load_data()"
   ]
  },
  {
   "cell_type": "code",
   "execution_count": 3,
   "metadata": {
    "colab": {
     "base_uri": "https://localhost:8080/",
     "height": 284
    },
    "colab_type": "code",
    "id": "Q0cUZRR1dalT",
    "outputId": "910464d8-4b6f-4dfc-984f-9925ff532d3f"
   },
   "outputs": [
    {
     "data": {
      "image/png": "[encoded data removed]",
      "text/plain": [
       "<Figure size 432x288 with 9 Axes>"
      ]
     },
     "metadata": {
      "tags": []
     },
     "output_type": "display_data"
    }
   ],
   "source": [
    "#fig = plt.figure()\n",
    "for i in range(9):\n",
    "  plt.subplot(3,3,i+1)\n",
    "  plt.tight_layout()\n",
    "  plt.imshow(x_train[i], cmap='gray', interpolation='none')\n",
    "  plt.title(\"Digit: {}\".format(y_train[i]))\n",
    "  plt.xticks([])\n",
    "  plt.yticks([])\n",
    "#fig"
   ]
  },
  {
   "cell_type": "code",
   "execution_count": 0,
   "metadata": {
    "colab": {},
    "colab_type": "code",
    "id": "2d6MmzRHdalW",
    "outputId": "512bbc05-0afb-41b1-da1f-25bd79332d74"
   },
   "outputs": [
    {
     "data": {
      "text/plain": [
       "Text(0.5,1,'Pixel Value Distribution')"
      ]
     },
     "execution_count": 4,
     "metadata": {
      "tags": []
     },
     "output_type": "execute_result"
    },
    {
     "data": {
      "image/png": "[encoded data removed]",
      "text/plain": [
       "<Figure size 432x288 with 2 Axes>"
      ]
     },
     "metadata": {
      "tags": []
     },
     "output_type": "display_data"
    }
   ],
   "source": [
    "#fig = plt.figure()\n",
    "plt.subplot(2,1,1)\n",
    "plt.imshow(x_train[0], cmap='gray', interpolation='none')\n",
    "plt.title(\"Digit: {}\".format(y_train[0]))\n",
    "plt.xticks([])\n",
    "plt.yticks([])\n",
    "plt.subplot(2,1,2)\n",
    "plt.hist(x_train[0].reshape(784))\n",
    "plt.title(\"Pixel Value Distribution\")\n",
    "#fig"
   ]
  },
  {
   "cell_type": "code",
   "execution_count": 4,
   "metadata": {
    "colab": {
     "base_uri": "https://localhost:8080/",
     "height": 126
    },
    "colab_type": "code",
    "id": "EmHoY00jdalb",
    "outputId": "a2162942-5f1b-4449-dd75-b48acb916d33"
   },
   "outputs": [
    {
     "name": "stdout",
     "output_type": "stream",
     "text": [
      "X_train shape (60000, 28, 28)\n",
      "y_train shape (60000,)\n",
      "X_test shape (10000, 28, 28)\n",
      "y_test shape (10000,)\n",
      "Train matrix shape (60000, 784)\n",
      "Test matrix shape (10000, 784)\n"
     ]
    }
   ],
   "source": [
    "# let's print the shape before we reshape and normalize\n",
    "print(\"X_train shape\", x_train.shape)\n",
    "print(\"y_train shape\", y_train.shape)\n",
    "print(\"X_test shape\", x_test.shape)\n",
    "print(\"y_test shape\", y_test.shape)\n",
    "\n",
    "# building the input vector from the 28x28 pixels\n",
    "x_train = x_train.reshape(60000, 784)\n",
    "x_test = x_test.reshape(10000, 784)\n",
    "x_train = x_train.astype('float32')\n",
    "x_test = x_test.astype('float32')\n",
    "\n",
    "# normalizing the data to help with the training\n",
    "x_train /= 255\n",
    "x_test /= 255\n",
    "\n",
    "# print the final input shape ready for training\n",
    "print(\"Train matrix shape\", x_train.shape)\n",
    "print(\"Test matrix shape\", x_test.shape)"
   ]
  },
  {
   "cell_type": "code",
   "execution_count": 5,
   "metadata": {
    "colab": {
     "base_uri": "https://localhost:8080/",
     "height": 54
    },
    "colab_type": "code",
    "id": "QT4vsflpdale",
    "outputId": "418d9738-d818-45a8-bd43-23944486012b"
   },
   "outputs": [
    {
     "name": "stdout",
     "output_type": "stream",
     "text": [
      "Shape before one-hot encoding:  (60000,)\n",
      "Shape after one-hot encoding:  (60000, 10)\n"
     ]
    }
   ],
   "source": [
    "# one-hot encoding using keras' numpy-related utilities\n",
    "n_classes = 10\n",
    "print(\"Shape before one-hot encoding: \", y_train.shape)\n",
    "Y_train = np_utils.to_categorical(y_train, n_classes)\n",
    "Y_test = np_utils.to_categorical(y_test, n_classes)\n",
    "print(\"Shape after one-hot encoding: \", Y_train.shape)"
   ]
  },
  {
   "cell_type": "code",
   "execution_count": 0,
   "metadata": {
    "colab": {},
    "colab_type": "code",
    "collapsed": true,
    "id": "fq4baIo2cWTV"
   },
   "outputs": [],
   "source": [
    "def Model_Build():\n",
    "  model = Sequential()\n",
    "  model.add(Dense(64,input_shape = (784,)))\n",
    "  model.add(Activation('sigmoid'))\n",
    "  model.add(Dropout(0.8))\n",
    "  \n",
    "  model.add(Dense(256))\n",
    "  model.add(Activation('tanh'))\n",
    "  model.add(Dropout(0.5))\n",
    "  \n",
    "  model.add(Dense(128))\n",
    "  model.add(Activation('relu'))\n",
    "  model.add(Dropout(0.2))\n",
    "  \n",
    "  model.add(Dense(10))\n",
    "  model.add(Activation('softmax'))    \n",
    "  return model        \n",
    "  "
   ]
  },
  {
   "cell_type": "code",
   "execution_count": 11,
   "metadata": {
    "colab": {
     "base_uri": "https://localhost:8080/",
     "height": 1000
    },
    "colab_type": "code",
    "id": "8GxNCoUpeSzR",
    "outputId": "54d071bc-6cb4-41e2-88cc-09108774152b"
   },
   "outputs": [
    {
     "name": "stdout",
     "output_type": "stream",
     "text": [
      "WARNING:tensorflow:Large dropout rate: 0.8 (>0.5). In TensorFlow 2.x, dropout() uses dropout rate instead of keep_prob. Please ensure that this is intended.\n",
      "Train on 60000 samples, validate on 10000 samples\n",
      "Epoch 1/20\n",
      " - 3s - loss: 1.4862 - acc: 0.4615 - val_loss: 0.5720 - val_acc: 0.8626\n",
      "Epoch 2/20\n",
      " - 3s - loss: 0.9339 - acc: 0.6803 - val_loss: 0.4327 - val_acc: 0.8927\n",
      "Epoch 3/20\n",
      " - 3s - loss: 0.8338 - acc: 0.7186 - val_loss: 0.3884 - val_acc: 0.8983\n",
      "Epoch 4/20\n",
      " - 3s - loss: 0.7911 - acc: 0.7384 - val_loss: 0.3798 - val_acc: 0.8982\n",
      "Epoch 5/20\n",
      " - 3s - loss: 0.7550 - acc: 0.7515 - val_loss: 0.3671 - val_acc: 0.9002\n",
      "Epoch 6/20\n",
      " - 3s - loss: 0.7294 - acc: 0.7618 - val_loss: 0.3639 - val_acc: 0.9033\n",
      "Epoch 7/20\n",
      " - 3s - loss: 0.7060 - acc: 0.7721 - val_loss: 0.3641 - val_acc: 0.8995\n",
      "Epoch 8/20\n",
      " - 3s - loss: 0.6932 - acc: 0.7770 - val_loss: 0.3633 - val_acc: 0.8978\n",
      "Epoch 9/20\n",
      " - 3s - loss: 0.6786 - acc: 0.7828 - val_loss: 0.3575 - val_acc: 0.8974\n",
      "Epoch 10/20\n",
      " - 3s - loss: 0.6673 - acc: 0.7861 - val_loss: 0.3634 - val_acc: 0.8912\n",
      "Epoch 11/20\n",
      " - 3s - loss: 0.6642 - acc: 0.7878 - val_loss: 0.3710 - val_acc: 0.8950\n",
      "Epoch 12/20\n",
      " - 3s - loss: 0.6472 - acc: 0.7961 - val_loss: 0.3748 - val_acc: 0.8965\n",
      "Epoch 13/20\n",
      " - 3s - loss: 0.6502 - acc: 0.7942 - val_loss: 0.3712 - val_acc: 0.8899\n",
      "Epoch 14/20\n",
      " - 3s - loss: 0.6410 - acc: 0.7987 - val_loss: 0.3600 - val_acc: 0.8973\n",
      "Epoch 15/20\n",
      " - 3s - loss: 0.6274 - acc: 0.8031 - val_loss: 0.3723 - val_acc: 0.8866\n",
      "Epoch 16/20\n",
      " - 3s - loss: 0.6218 - acc: 0.8049 - val_loss: 0.3912 - val_acc: 0.8793\n",
      "Epoch 17/20\n",
      " - 3s - loss: 0.6217 - acc: 0.8045 - val_loss: 0.3754 - val_acc: 0.8863\n",
      "Epoch 18/20\n",
      " - 3s - loss: 0.6140 - acc: 0.8065 - val_loss: 0.3862 - val_acc: 0.8829\n",
      "Epoch 19/20\n",
      " - 3s - loss: 0.6118 - acc: 0.8075 - val_loss: 0.3843 - val_acc: 0.8806\n",
      "Epoch 20/20\n",
      " - 3s - loss: 0.6102 - acc: 0.8093 - val_loss: 0.4174 - val_acc: 0.8638\n"
     ]
    },
    {
     "data": {
      "image/png": "[encoded data removed]",
      "text/plain": [
       "<Figure size 432x288 with 1 Axes>"
      ]
     },
     "metadata": {
      "tags": []
     },
     "output_type": "display_data"
    },
    {
     "data": {
      "image/png": "[encoded data removed]",
      "text/plain": [
       "<Figure size 432x288 with 1 Axes>"
      ]
     },
     "metadata": {
      "tags": []
     },
     "output_type": "display_data"
    }
   ],
   "source": [
    "model = Model_Build()\n",
    "model.compile(loss='categorical_crossentropy', metrics=['accuracy'], optimizer='adam')\n",
    "history = model.fit(x_train, Y_train,\n",
    "                    batch_size=128, epochs=20,\n",
    "                    verbose=2,validation_data=(x_test, Y_test))\n",
    "\n",
    "\n",
    "plt.figure()\n",
    "plt.plot(history.history['acc'])\n",
    "plt.plot(history.history['val_acc'])\n",
    "plt.title('model accuracy'+'sig'+'_'+'tanh'+'_'+'relu')\n",
    "plt.ylabel('accuracy')\n",
    "plt.xlabel('epoch')\n",
    "plt.legend(['train', 'test'], loc='lower right')\n",
    "plt.figure()\n",
    "plt.plot(history.history['loss'])\n",
    "plt.plot(history.history['val_loss'])\n",
    "plt.title('model loss'+'sig'+'_'+'tanh'+'_'+'relu')\n",
    "plt.ylabel('loss')\n",
    "plt.xlabel('epoch')\n",
    "plt.legend(['train', 'test'], loc='upper right')\n",
    "\n",
    "plt.tight_layout()"
   ]
  },
  {
   "cell_type": "code",
   "execution_count": 13,
   "metadata": {
    "colab": {
     "base_uri": "https://localhost:8080/",
     "height": 54
    },
    "colab_type": "code",
    "id": "uroftqJIhG5S",
    "outputId": "586121d3-1630-4a96-f10b-46e1366a106a"
   },
   "outputs": [
    {
     "name": "stdout",
     "output_type": "stream",
     "text": [
      "Test Loss 0.4174462589263916\n",
      "Test Accuracy 0.8638\n"
     ]
    }
   ],
   "source": [
    "loss_and_metrics = model.evaluate(x_test, Y_test, verbose=2)\n",
    "\n",
    "print(\"Test Loss\", loss_and_metrics[0])\n",
    "print(\"Test Accuracy\", loss_and_metrics[1])"
   ]
  },
  {
   "cell_type": "code",
   "execution_count": 0,
   "metadata": {
    "colab": {},
    "colab_type": "code",
    "id": "jclJVanIdalz",
    "outputId": "48d0a87f-9aaf-4f2c-ffc2-0f972e28000b"
   },
   "outputs": [
    {
     "name": "stdout",
     "output_type": "stream",
     "text": [
      "\n",
      "9844  classified correctly\n",
      "156  classified incorrectly\n"
     ]
    },
    {
     "data": {
      "image/png": "[encoded data removed]",
      "text/plain": [
       "<Figure size 504x1008 with 18 Axes>"
      ]
     },
     "metadata": {
      "tags": []
     },
     "output_type": "display_data"
    }
   ],
   "source": [
    "# load the model and create predictions on the test set\n",
    "predicted_classes = model.predict_classes(x_test)\n",
    "\n",
    "# see which we predicted correctly and which not\n",
    "correct_indices = np.nonzero(predicted_classes == y_test)[0]\n",
    "incorrect_indices = np.nonzero(predicted_classes != y_test)[0]\n",
    "print()\n",
    "print(len(correct_indices),\" classified correctly\")\n",
    "print(len(incorrect_indices),\" classified incorrectly\")\n",
    "\n",
    "# adapt figure size to accomodate 18 subplots\n",
    "plt.rcParams['figure.figsize'] = (7,14)\n",
    "\n",
    "# plot 9 correct predictions\n",
    "for i, correct in enumerate(correct_indices[:9]):\n",
    "    plt.subplot(6,3,i+1)\n",
    "    plt.imshow(x_test[correct].reshape(28,28), cmap='gray', interpolation='none')\n",
    "    plt.title(\n",
    "      \"Predicted: {}, Truth: {}\".format(predicted_classes[correct],\n",
    "                                        y_test[correct]))\n",
    "    plt.xticks([])\n",
    "    plt.yticks([])\n",
    "\n",
    "# plot 9 incorrect predictions\n",
    "for i, incorrect in enumerate(incorrect_indices[:9]):\n",
    "    plt.subplot(6,3,i+10)\n",
    "    plt.imshow(x_test[incorrect].reshape(28,28), cmap='gray', interpolation='none')\n",
    "    plt.title(\n",
    "      \"Predicted {}, Truth: {}\".format(predicted_classes[incorrect], \n",
    "                                       y_test[incorrect]))\n",
    "    plt.xticks([])\n",
    "    plt.yticks([])\n"
   ]
  },
  {
   "cell_type": "code",
   "execution_count": 14,
   "metadata": {
    "colab": {
     "base_uri": "https://localhost:8080/",
     "height": 35
    },
    "colab_type": "code",
    "id": "kpdvlYRUdal5",
    "outputId": "04380af8-668c-4112-ecc8-74dec81aa3b3"
   },
   "outputs": [
    {
     "data": {
      "text/plain": [
       "(1, 784)"
      ]
     },
     "execution_count": 14,
     "metadata": {
      "tags": []
     },
     "output_type": "execute_result"
    }
   ],
   "source": [
    "img = Image.open('pic.png')\n",
    "arr = np.array(img)\n",
    "arr = arr.ravel()\n",
    "arr = arr.astype('float32')\n",
    "arr /= 255\n",
    "#arr = arr.reshape(arr,(1,784))\n",
    "new_arr = np.zeros((1,784))\n",
    "new_arr[0] = arr\n",
    "new_arr.shape\n",
    "#print(arr.shape)\n",
    "#plt.imshow(arr, cmap='gray', interpolation='none')"
   ]
  },
  {
   "cell_type": "code",
   "execution_count": 16,
   "metadata": {
    "colab": {
     "base_uri": "https://localhost:8080/",
     "height": 317
    },
    "colab_type": "code",
    "id": "DuYLQombdal_",
    "outputId": "98e2460c-63f1-42f0-aac8-41fae268b9bb"
   },
   "outputs": [
    {
     "name": "stdout",
     "output_type": "stream",
     "text": [
      "[2]\n"
     ]
    },
    {
     "data": {
      "text/plain": [
       "Text(0.5, 1.0, 'Predicted: [2], Truth: 2')"
      ]
     },
     "execution_count": 16,
     "metadata": {
      "tags": []
     },
     "output_type": "execute_result"
    },
    {
     "data": {
      "image/png": "[encoded data removed]",
      "text/plain": [
       "<Figure size 432x288 with 1 Axes>"
      ]
     },
     "metadata": {
      "tags": []
     },
     "output_type": "display_data"
    }
   ],
   "source": [
    "\n",
    "img = Image.open('pic.png')\n",
    "arr = np.array(img)\n",
    "arr = arr.ravel()\n",
    "arr = arr.astype('float32')\n",
    "arr /= 255\n",
    "new_arr = np.zeros((1,784))\n",
    "new_arr[0] = arr\n",
    "new_arr.shape\n",
    "predicted_class = model.predict_classes(new_arr)\n",
    "print(predicted_class)\n",
    "plt.imshow(arr.reshape(28,28), cmap='gray', interpolation='none')\n",
    "plt.title(\"Predicted: {}, Truth: 2\".format(predicted_class))\n"
   ]
  }
 ],
 "metadata": {
  "accelerator": "GPU",
  "colab": {
   "collapsed_sections": [],
   "name": "ASSIGNMENT 3.ipynb",
   "provenance": []
  },
  "kernelspec": {
   "display_name": "Python 3",
   "language": "python",
   "name": "python3"
  },
  "language_info": {
   "codemirror_mode": {
    "name": "ipython",
    "version": 3
   },
   "file_extension": ".py",
   "mimetype": "text/x-python",
   "name": "python",
   "nbconvert_exporter": "python",
   "pygments_lexer": "ipython3",
   "version": "3.6.3"
  }
 },
 "nbformat": 4,
 "nbformat_minor": 1
}
